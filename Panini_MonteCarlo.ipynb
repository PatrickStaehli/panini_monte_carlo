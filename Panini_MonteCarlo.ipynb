{
 "cells": [
  {
   "cell_type": "markdown",
   "metadata": {},
   "source": [
    "# Panini Monte Carlo Simulation"
   ]
  },
  {
   "cell_type": "markdown",
   "metadata": {},
   "source": [
    "# Libraries"
   ]
  },
  {
   "cell_type": "code",
   "execution_count": 1,
   "metadata": {},
   "outputs": [],
   "source": [
    "import numpy as np\n",
    "from numpy.random import default_rng\n",
    "import matplotlib.pyplot as plt\n",
    "import random\n",
    "import pandas as pd\n",
    "\n",
    "import seaborn as sns\n",
    "import matplotlib.pyplot as plt\n",
    "sns.set(style=\"ticks\", color_codes=True)"
   ]
  },
  {
   "cell_type": "code",
   "execution_count": 2,
   "metadata": {},
   "outputs": [],
   "source": [
    "# Properties\n",
    "n_stickers = 678\n",
    "cost_per_packs = 1.1\n",
    "pack_size = 5"
   ]
  },
  {
   "cell_type": "markdown",
   "metadata": {},
   "source": [
    "## Album"
   ]
  },
  {
   "cell_type": "code",
   "execution_count": 3,
   "metadata": {},
   "outputs": [],
   "source": [
    "class Album:\n",
    "    '''\n",
    "    Attributes\n",
    "    ----------\n",
    "    album : np.array of size n_stickers\n",
    "        The value at index i determines the amount of stickers with this id are collected.\n",
    "    album_complete : int=0\n",
    "        Turns to 1 as soon as the album is complete\n",
    "    n_stickers : int\n",
    "        Number of stickers in the album\n",
    "    pack_size : int\n",
    "        Size of a pack of stickers\n",
    "    num_packs_bought : int\n",
    "        The amount of packst that had to be bought until the album was complete\n",
    "    \n",
    "    \n",
    "    Methods\n",
    "    -------\n",
    "    create_pack\n",
    "        Creates a pack of uniformely distributed stickers\n",
    "    buy_pack\n",
    "        Simulates the buying process of on sticker pack and adds the sickers to the album\n",
    "    fill_album\n",
    "        Buys stickers until at least one of every sticker is in the album\n",
    "    '''\n",
    "\n",
    "    def __init__(self, n_stickers, pack_size):\n",
    "        '''\n",
    "        Parameters\n",
    "        ----------\n",
    "        n_stickers : int\n",
    "            Number of stickers in the album\n",
    "        pack_size : int\n",
    "            Size of a pack of stickers\n",
    "        '''\n",
    "        \n",
    "        self.n_stickers = n_stickers\n",
    "        self.stickers = np.zeros(n_stickers)\n",
    "        self.pack_size = pack_size\n",
    "        self.num_packs_bought = 0\n",
    "        self.album_complete = 0\n",
    "    \n",
    "    def create_pack(self):\n",
    "        '''\n",
    "        Creates a sticker pack that contains n stickers defined by the pack size.\n",
    "        The stickers are distributed uniformly\n",
    "\n",
    "        Returns\n",
    "        --------\n",
    "        Numpy array\n",
    "            Random selected stickers of size pack_size\n",
    "        '''\n",
    "        \n",
    "        rng = np.random.default_rng()\n",
    "        return(rng.integers(low=0, high=self.n_stickers, size=self.pack_size))\n",
    "\n",
    "    \n",
    "    def buy_pack(self):\n",
    "        '''\n",
    "        Simulates the buying process of on sticker pack.\n",
    "\n",
    "        Creates a new sticker pack. The stickers that are contained inside this pack\n",
    "        are then added to the album. The sticker number is the ID in the album. Thus, 1 is added\n",
    "        to the album array at the index i=sticker_number.\n",
    "        '''\n",
    "\n",
    "        new_stickers = self.create_pack()\n",
    "        for i in new_stickers:\n",
    "            self.stickers[i] += 1\n",
    "\n",
    "    \n",
    "    def fill_album(self):\n",
    "        '''\n",
    "        Buys stickers until the album is full.\n",
    "        '''\n",
    "        # Check if album still contains zeros\n",
    "        # if not -> buy new pack\n",
    "        # if yes, stop\n",
    "        while (self.stickers==0).any():\n",
    "            self.buy_pack() \n",
    "            self.num_packs_bought += 1\n",
    "                \n",
    "        self.album_complete = True"
   ]
  },
  {
   "cell_type": "code",
   "execution_count": 84,
   "metadata": {},
   "outputs": [],
   "source": [
    "def initialize_mc_simulation(n_album, n_stickers, pack_size):\n",
    "    # generate n albums instances\n",
    "    albums = [Album(n_stickers, pack_size) for i in range(n_album)]\n",
    "    return albums\n",
    "\n",
    "def run_mc_simulation_swapping(n_simulations, n_albums, n_stickers, pack_size, complete_swap):\n",
    "    '''\n",
    "    Runs the MC simulation including swapping\n",
    "    \n",
    "    Parameters\n",
    "    ----------\n",
    "    n_simulations : int\n",
    "        Number of simulation steps\n",
    "    n_albums : int\n",
    "        Number of albums (i.e. collectors) in the simulatoin\n",
    "    n_sitckers : int\n",
    "        Number of stickers of one album\n",
    "    pack_size : int\n",
    "        Size of a sicker pack    \n",
    "    complete_swap : bool\n",
    "        Complete albums sell the duplicated stickers to the others.\n",
    "    Returns\n",
    "    -------\n",
    "    list\n",
    "        A list of each album of all stickers that were bought\n",
    "    list\n",
    "        Number of packs that had to be bought to complete the album\n",
    "    int\n",
    "        Number of stickers that were sold by complete albums\n",
    "    '''\n",
    "    num_sold_stickers = 0\n",
    "    num_packs_fill_album = []\n",
    "    alb = []\n",
    "    \n",
    "    # Running n_simulations/n_albums simulations.\n",
    "    for i in range(int(np.ceil(n_simulations/n_albums))):\n",
    "        # Verbose\n",
    "        #if i%100 == 0: print('Simulation Number: {}'.format(i))\n",
    "        # Initialize the albums\n",
    "        albums = initialize_mc_simulation(n_albums, n_stickers, pack_size)\n",
    "        # As long as any of the albums is not yet complete-> Run the Simulation\n",
    "        while (np.array([albums[i].album_complete for i in range(len(albums))])==0).any(): \n",
    "            # For each album that is not yet complete, buy a pack of stickers and check\n",
    "            # if the album is now full.\n",
    "            for i in range(len(albums)):\n",
    "                if albums[i].album_complete == 0: \n",
    "                    # Buy sticker pack\n",
    "                    albums[i].buy_pack() \n",
    "                    albums[i].num_packs_bought += 1\n",
    "                    # Check if album is complete\n",
    "                    if ~(albums[i].stickers==0).any():\n",
    "                        albums[i].album_complete = 1\n",
    "                        num_packs_fill_album.append(albums[i].num_packs_bought)\n",
    "                        alb.append(albums[i].stickers)\n",
    "                    \n",
    "                \n",
    "            # Perform swapping between all albums.\n",
    "            albums, sold_stickers = swap_stickers(albums, complete_swap)\n",
    "            num_sold_stickers += sold_stickers  \n",
    "                \n",
    "    \n",
    "    return alb[:n_simulations], num_packs_fill_album[:n_simulations], num_sold_stickers\n",
    "\n",
    "def swap_stickers(albums, complete_swap = False):\n",
    "    '''\n",
    "    Swaps the stickers between each album.\n",
    "    \n",
    "    Parameters\n",
    "    ----------\n",
    "    albums : list\n",
    "        List of the albums that participate the swapping process\n",
    "    complete_swap : bool (False)\n",
    "        Complete albums sell the duplicated stickers to the others.\n",
    "    \n",
    "    Returns\n",
    "    -------\n",
    "    albums : List\n",
    "        List of the albums with swapped stickers\n",
    "    num_sold_stickers : int\n",
    "        Number of stickers that were sold by complete albums\n",
    "    '''\n",
    "    num_sold_stickers = 0\n",
    "    num_alubms = len(albums)\n",
    "    # generate swapping order\n",
    "    swapping_order = generate_swapping_order(num_alubms)\n",
    "    \n",
    "    # swap for each swapping_order\n",
    "    for swapping in swapping_order:\n",
    "        swap_album_0 = swapping[0]\n",
    "        swap_album_1 = swapping[1]\n",
    "        # Count the amount of stickers that can be swapped\n",
    "        # Number of 0 in first array, where >1 in second.\n",
    "        swap_0_to_1 = np.argwhere((albums[swap_album_0].stickers > 1) & (albums[swap_album_1].stickers == 0)==True)\n",
    "        # Number of 0 in the second array, where >1 in the first\n",
    "        swap_1_to_0 = np.argwhere((albums[swap_album_1].stickers > 1) & (albums[swap_album_0].stickers == 0)==True)\n",
    "        \n",
    "        # If 0 has a complete album, 0 sells all stickers that 1 needs\n",
    "        if albums[swap_album_0].album_complete == 1 and complete_swap == True:\n",
    "            number_of_swaps = len(swap_0_to_1)\n",
    "            # Add the # of stickers that are sold from 0 to 1 to the number of bought packs of 1\n",
    "            albums[swap_album_1].num_packs_bought += number_of_swaps/5\n",
    "            num_sold_stickers += number_of_swaps\n",
    "        # If 1 has a complete album, 1 sells all stickers that 0 needs\n",
    "        elif albums[swap_album_1].album_complete == 1 and complete_swap == True:\n",
    "            number_of_swaps = len(swap_1_to_0)\n",
    "            # Add the # of stickers that are sold from 1 to 0 to the number of bought packs of 0\n",
    "            albums[swap_album_0].num_packs_bought += number_of_swaps/5\n",
    "            num_sold_stickers += number_of_swaps\n",
    "        # The lower length of the two arrays determine the number of swaps  \n",
    "        else:\n",
    "            number_of_swaps = np.amin(np.array([len(swap_0_to_1), len(swap_1_to_0)]))\n",
    "        \n",
    "        # Swapping\n",
    "        for i in range(number_of_swaps):\n",
    "            # If 0 has a complete album, 0 sells all stickers that 1 needs\n",
    "            if (albums[swap_album_0].album_complete == 1 and complete_swap == True):\n",
    "                # 0 gives sticker to 1\n",
    "                albums[swap_album_0].stickers[swap_0_to_1[i]] -= 1\n",
    "                albums[swap_album_1].stickers[swap_0_to_1[i]] += 1\n",
    "            elif albums[swap_album_1].album_complete == 1 and complete_swap == True:\n",
    "                 # 1 gives sticker to 0\n",
    "                albums[swap_album_0].stickers[swap_1_to_0[i]] += 1\n",
    "                albums[swap_album_1].stickers[swap_1_to_0[i]] -= 1\n",
    "            else:\n",
    "                # 0 gives sticker to 1\n",
    "                albums[swap_album_0].stickers[swap_0_to_1[i]] -= 1\n",
    "                albums[swap_album_1].stickers[swap_0_to_1[i]] += 1\n",
    "                # 1 gives sticker to 0\n",
    "                albums[swap_album_0].stickers[swap_1_to_0[i]] += 1\n",
    "                albums[swap_album_1].stickers[swap_1_to_0[i]] -= 1\n",
    "    \n",
    "    return albums, num_sold_stickers\n",
    "\n",
    "def generate_swapping_order(num_albums):\n",
    "    '''\n",
    "    Generates swapping combinations and shuffles them.\n",
    "    \n",
    "    Parameters\n",
    "    ----------\n",
    "    num_albums : int\n",
    "        Number of albums that participate the swapping process\n",
    "        \n",
    "    Example\n",
    "    -------\n",
    "    random_swapping_order(5)\n",
    "    > [[2,4], [1,3], [0,4], [0,3], [1,2], [0,2], \n",
    "       [2,3], [0,1], [3,4], [1,4]]\n",
    "    \n",
    "    '''\n",
    "    \n",
    "    # Generate possible swapping combinatoins\n",
    "    swapping_order = []\n",
    "    for i in range(num_albums-1):\n",
    "        for j in range(i+1, num_albums):\n",
    "            swapping_order.append([i,j])\n",
    "    \n",
    "    # Shuffle the swapping order\n",
    "    random.shuffle(swapping_order)\n",
    "    \n",
    "    return swapping_order"
   ]
  },
  {
   "cell_type": "markdown",
   "metadata": {},
   "source": [
    "## Perform the MC simulation for different number of albums (i.e. collectors) including swapping"
   ]
  },
  {
   "cell_type": "code",
   "execution_count": 86,
   "metadata": {},
   "outputs": [
    {
     "name": "stdout",
     "output_type": "stream",
     "text": [
      "# of albums in simulation: 20\n"
     ]
    },
    {
     "data": {
      "text/plain": [
       "34"
      ]
     },
     "execution_count": 86,
     "metadata": {},
     "output_type": "execute_result"
    }
   ],
   "source": [
    "albums = []\n",
    "num_packs_fill_album = []\n",
    "for num_albums in range(20,21):\n",
    "    print('# of albums in simulation: {}'.format(num_albums))\n",
    "    alb, num_packs_fill, num_sold_stickers = run_mc_simulation_swapping(1, num_albums, n_stickers, pack_size, True)\n",
    "    albums.append(alb)\n",
    "    num_packs_fill_album.append(num_packs_fill)\n",
    "    \n",
    "num_sold_stickers"
   ]
  },
  {
   "cell_type": "code",
   "execution_count": 72,
   "metadata": {},
   "outputs": [
    {
     "data": {
      "image/png": "[encoded data removed]",
      "text/plain": [
       "<Figure size 1440x360 with 1 Axes>"
      ]
     },
     "metadata": {},
     "output_type": "display_data"
    }
   ],
   "source": [
    "\n",
    "df = pd.DataFrame(data=np.transpose(num_packs_fill_album), columns=np.arange(1,len(num_packs_fill_album)+1))#np.linspace(1, len(num_packs_fill_album), len(num_packs_fill_album)))\n",
    "fig, axes = plt.subplots(1, 1, figsize=(20,5))\n",
    "sns.boxplot(ax=axes, x=\"variable\", y=\"value\", data=pd.melt(df))\n",
    "axes.set_title('Number of packs to complete the album in dependence of the number of collectors')\n",
    "axes.set(ylabel='# of packs to buy');\n",
    "axes.set(xlabel='# of of collectors');\n",
    "\n",
    "#fig.savefig('img/swapping/no_of_packs_swapping.png')"
   ]
  },
  {
   "cell_type": "code",
   "execution_count": 123,
   "metadata": {},
   "outputs": [
    {
     "name": "stdout",
     "output_type": "stream",
     "text": [
      "Simulation Number: 0\n",
      "Simulation Number: 100\n",
      "Simulation Number: 200\n",
      "1500\n"
     ]
    }
   ],
   "source": [
    "albums, num_packs_fill_album = run_mc_simulation_swapping(1500, 5, n_stickers, pack_size)"
   ]
  },
  {
   "cell_type": "code",
   "execution_count": 8,
   "metadata": {},
   "outputs": [
    {
     "data": {
      "image/png": "[encoded data removed]",
      "text/plain": [
       "<Figure size 1440x360 with 2 Axes>"
      ]
     },
     "metadata": {},
     "output_type": "display_data"
    }
   ],
   "source": [
    "# No Swapping\n",
    "fig, axes = plt.subplots(1, 2, figsize=(20,5))\n",
    "sns.histplot(ax=axes[0], x=num_packs_fill_album[0],  bins='sqrt', stat='density');\n",
    "axes[0].set(ylabel='Density', xlabel='# of packs to buy');\n",
    "axes[0].set_title('Histogram')\n",
    "#sns.violinplot(ax=axes[1], y=num_packs_fill_album);\n",
    "#axes[1].set_title('Violin Plot')\n",
    "#axes[1].set(ylabel='# of packs to buy');\n",
    "sns.boxplot(ax=axes[1], y=num_packs_fill_album[0]);\n",
    "axes[1].set_title('Box Plot')\n",
    "axes[1].set(ylabel='# of packs to buy');\n",
    "\n",
    "fig.savefig('no_of_packs_two_swappers')"
   ]
  },
  {
   "cell_type": "code",
   "execution_count": 37,
   "metadata": {},
   "outputs": [
    {
     "name": "stdout",
     "output_type": "stream",
     "text": [
      "#### No Swapping ####\n",
      "The median number of packs one has to buy to fill the complete album is: 932.5\n",
      "With a chance of 10%, you need less than 776.0 packs to fill the album \n",
      "With a chance of 10%, you need more than 1187.0 packs to fill the album \n",
      "\n",
      "#### Five collectors ####\n",
      "The median number of packs one has to buy to fill the complete album is: 403.0\n",
      "With a chance of 10%, you need less than 326.0 packs to fill the album \n",
      "With a chance of 10%, you need more than 604.1000000000001 packs to fill the album \n"
     ]
    }
   ],
   "source": [
    "print('#### No Swapping ####')\n",
    "print('The median number of packs one has to buy to fill the complete album is: {}'.format(np.median(num_packs_fill_album[0])))\n",
    "print('With a chance of 10%, you need less than {} packs to fill the album '.format(np.percentile(num_packs_fill_album[0], 10)))\n",
    "print('With a chance of 10%, you need more than {} packs to fill the album '.format(np.percentile(num_packs_fill_album[0], 90)))\n",
    "\n",
    "print('\\n#### Five collectors ####')\n",
    "print('The median number of packs one has to buy to fill the complete album is: {}'.format(np.median(num_packs_fill_album[4])))\n",
    "print('With a chance of 10%, you need less than {} packs to fill the album '.format(np.percentile(num_packs_fill_album[4], 10)))\n",
    "print('With a chance of 10%, you need more than {} packs to fill the album '.format(np.percentile(num_packs_fill_album[4], 90)))"
   ]
  },
  {
   "cell_type": "markdown",
   "metadata": {},
   "source": [
    "## Evaluate the duplicates"
   ]
  },
  {
   "cell_type": "code",
   "execution_count": 29,
   "metadata": {},
   "outputs": [],
   "source": [
    "duplicates = []\n",
    "amount_of_duplicates = []\n",
    "\n",
    "for i in range(len(albums)):\n",
    "    dup = np.zeros(40) \n",
    "    n_duplicates = []\n",
    "    for album in albums[i]:  \n",
    "        n_duplicates.append(np.sum(album) - n_stickers) \n",
    "        counts = np.bincount(np.int64(album))\n",
    "        len_counts = len(counts)\n",
    "        dup[0:len_counts] = dup[0:len_counts] + counts\n",
    "    duplicates.append(dup)\n",
    "    amount_of_duplicates.append(n_duplicates)"
   ]
  },
  {
   "cell_type": "code",
   "execution_count": 46,
   "metadata": {},
   "outputs": [
    {
     "data": {
      "image/png": "[encoded data removed]",
      "text/plain": [
       "<Figure size 1440x360 with 1 Axes>"
      ]
     },
     "metadata": {},
     "output_type": "display_data"
    }
   ],
   "source": [
    "df = pd.DataFrame(data=np.transpose(amount_of_duplicates), columns=np.arange(1,len(amount_of_duplicates)+1))#np.linspace(1, len(num_packs_fill_album), len(num_packs_fill_album)))\n",
    "fig, axes = plt.subplots(1, 1, figsize=(20,5))\n",
    "sns.boxplot(ax=axes, x=\"variable\", y=\"value\", data=pd.melt(df))\n",
    "axes.set_title('Numberof duplicates when album is full')\n",
    "axes.set(ylabel='# of duplicates when album is complete');\n",
    "axes.set(xlabel='# of of collectors');\n",
    "\n",
    "fig.savefig('img/swapping/no_of_duplicates_swapping.png')"
   ]
  },
  {
   "cell_type": "code",
   "execution_count": 45,
   "metadata": {},
   "outputs": [
    {
     "name": "stdout",
     "output_type": "stream",
     "text": [
      "#### No Swapping ####\n",
      "The median number duplicates when completing the album: 1337.0\n",
      "With a chance of 10%, you will have less than than 1877.0 duplicates when completing the album \n",
      "With a chance of 10%, you will have more than than 2342.500000000001 duplicates when completing the album \n",
      "\n",
      "#### Five collectors ####\n",
      "The median number duplicates when completing the album: 847.0\n",
      "With a chance of 10%, you will have less than than 1257.0 duplicates when completing the album \n",
      "With a chance of 10%, you will have more than than 1607.5000000000007 duplicates when completing the album \n"
     ]
    }
   ],
   "source": [
    "print('#### No Swapping ####')\n",
    "print('The median number duplicates when completing the album: {}'.format(np.median(amount_of_duplicates[4])))\n",
    "print('With a chance of 10%, you will have less than than {} duplicates when completing the album '.format(np.percentile(amount_of_duplicates[4], 80)))\n",
    "print('With a chance of 10%, you will have more than than {} duplicates when completing the album '.format(np.percentile(amount_of_duplicates[4], 90)))\n",
    "\n",
    "print('\\n#### Five collectors ####')\n",
    "print('The median number duplicates when completing the album: {}'.format(np.median(amount_of_duplicates[9])))\n",
    "print('With a chance of 10%, you will have less than than {} duplicates when completing the album '.format(np.percentile(amount_of_duplicates[9], 80)))\n",
    "print('With a chance of 10%, you will have more than than {} duplicates when completing the album '.format(np.percentile(amount_of_duplicates[9], 90)))\n"
   ]
  },
  {
   "cell_type": "code",
   "execution_count": null,
   "metadata": {},
   "outputs": [],
   "source": []
  }
 ],
 "metadata": {
  "kernelspec": {
   "display_name": "Python 3",
   "language": "python",
   "name": "python3"
  },
  "language_info": {
   "codemirror_mode": {
    "name": "ipython",
    "version": 3
   },
   "file_extension": ".py",
   "mimetype": "text/x-python",
   "name": "python",
   "nbconvert_exporter": "python",
   "pygments_lexer": "ipython3",
   "version": "3.8.5"
  }
 },
 "nbformat": 4,
 "nbformat_minor": 4
}
