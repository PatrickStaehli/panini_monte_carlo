{
 "cells": [
  {
   "cell_type": "markdown",
   "metadata": {},
   "source": [
    "# Panini Monte Carlo Simulation"
   ]
  },
  {
   "cell_type": "markdown",
   "metadata": {},
   "source": [
    "# Libraries"
   ]
  },
  {
   "cell_type": "code",
   "execution_count": 4,
   "metadata": {},
   "outputs": [],
   "source": [
    "import numpy as np\n",
    "from numpy.random import default_rng\n",
    "import matplotlib.pyplot as plt\n",
    "\n",
    "import seaborn as sns\n",
    "import matplotlib.pyplot as plt\n",
    "sns.set_theme(style=\"ticks\", color_codes=True)\n",
    "sns.set()"
   ]
  },
  {
   "cell_type": "code",
   "execution_count": 5,
   "metadata": {},
   "outputs": [],
   "source": [
    "# Properties\n",
    "n_stickers = 678\n",
    "cost_per_packs = 1.1\n",
    "pack_size = 5"
   ]
  },
  {
   "cell_type": "markdown",
   "metadata": {},
   "source": [
    "## Album"
   ]
  },
  {
   "cell_type": "code",
   "execution_count": 19,
   "metadata": {},
   "outputs": [],
   "source": [
    "class Album:\n",
    "    '''\n",
    "    Attributes\n",
    "    ----------\n",
    "    album : np.array of size n_stickers\n",
    "        The value at index i determines the amount of stickers with this id are collected.\n",
    "    album_complete : bool\n",
    "        Turns to true as soon as the album is complete\n",
    "    n_stickers : int\n",
    "        Number of stickers in the album\n",
    "    pack_size : int\n",
    "        Size of a pack of stickers\n",
    "    num_packs_bought : int\n",
    "        The amount of packst that had to be bought until the album was complete\n",
    "    \n",
    "    \n",
    "    Methods\n",
    "    -------\n",
    "    create_pack\n",
    "        Creates a pack of uniformely distributed stickers\n",
    "    buy_pack\n",
    "        Simulates the buying process of on sticker pack and adds the sickers to the album\n",
    "    fill_album\n",
    "        Buys stickers until at least one of every sticker is in the album\n",
    "    '''\n",
    "\n",
    "    def __init__(self, n_stickers, pack_size):\n",
    "        '''\n",
    "        Parameters\n",
    "        ----------\n",
    "        n_stickers : int\n",
    "            Number of stickers in the album\n",
    "        pack_size : int\n",
    "            Size of a pack of stickers\n",
    "        '''\n",
    "        \n",
    "        self.n_stickers = n_stickers\n",
    "        self.stickers = np.zeros(n_stickers)\n",
    "        self.pack_size = pack_size\n",
    "        self.num_packs_bought = 0\n",
    "        self.album_complete = False\n",
    "    \n",
    "    def create_pack(self):\n",
    "        '''\n",
    "        Creates a sticker pack that contains n stickers defined by the pack size.\n",
    "        The stickers are distributed uniformly\n",
    "\n",
    "        Returns\n",
    "        --------\n",
    "        Numpy array\n",
    "            Random selected stickers of size pack_size\n",
    "        '''\n",
    "        \n",
    "        rng = np.random.default_rng()\n",
    "        return(rng.integers(low=0, high=self.n_stickers, size=self.pack_size))\n",
    "\n",
    "    \n",
    "    def buy_pack(self):\n",
    "        '''\n",
    "        Simulates the buying process of on sticker pack.\n",
    "\n",
    "        Creates a new sticker pack. The stickers that are contained inside this pack\n",
    "        are then added to the album. The sticker number is the ID in the album. Thus, 1 is added\n",
    "        to the album array at the index i=sticker_number.\n",
    "        '''\n",
    "\n",
    "        new_stickers = self.create_pack()\n",
    "        for i in new_stickers:\n",
    "            self.stickers[i] += 1\n",
    "\n",
    "    \n",
    "    def fill_album(self):\n",
    "        '''\n",
    "        Buys stickers until the album is full.\n",
    "        '''\n",
    "        # Check if album still contains zeros\n",
    "        # if not -> buy new pack\n",
    "        # if yes, stop\n",
    "        while (self.stickers==0).any():\n",
    "            self.buy_pack() \n",
    "            self.num_packs_bought += 1\n",
    "                \n",
    "        self.album_complete = True\n",
    "\n",
    "            \n",
    "def run_mc_simulation(n_simulations, n_stickers, pack_size):\n",
    "    '''\n",
    "    '''\n",
    "    \n",
    "    num_packs_fill_album = []\n",
    "    albums = []\n",
    "    for i in range(n_simulations):\n",
    "        if i%100 == 0: print('Simulation Number: {}'.format(i))\n",
    "        album = Album(n_stickers, pack_size)\n",
    "        album.fill_album()\n",
    "        num_packs_fill_album.append(album.num_packs_bought)\n",
    "        albums.append(album.stickers)\n",
    "        \n",
    "    return albums, num_packs_fill_album"
   ]
  },
  {
   "cell_type": "code",
   "execution_count": 14,
   "metadata": {},
   "outputs": [],
   "source": [
    "album = Album(n_stickers, pack_size)\n",
    "album.fill_album()"
   ]
  },
  {
   "cell_type": "code",
   "execution_count": 16,
   "metadata": {
    "collapsed": true,
    "jupyter": {
     "outputs_hidden": true
    }
   },
   "outputs": [
    {
     "data": {
      "text/plain": [
       "array([ 5., 14.,  4., 13.,  7.,  4., 10.,  5., 13., 10.,  7.,  6.,  8.,\n",
       "        6., 13.,  6.,  9.,  7., 10.,  5.,  8.,  9.,  7.,  9.,  3.,  7.,\n",
       "        7.,  6., 13., 14., 12.,  6., 12., 11.,  8., 12., 15.,  6.,  8.,\n",
       "       10.,  8., 12.,  7.,  7.,  6., 10.,  8.,  6.,  9., 11., 10., 12.,\n",
       "        6.,  6.,  3., 12.,  9.,  5., 10.,  7., 11.,  9.,  7., 10., 11.,\n",
       "        8.,  5., 15.,  7.,  6., 11.,  6.,  7.,  2., 10.,  7.,  7., 10.,\n",
       "        7., 11.,  6., 12.,  5.,  8.,  7.,  6.,  5., 10.,  4.,  4.,  8.,\n",
       "        9., 13.,  9., 12., 11., 12.,  6.,  5.,  6.,  8.,  4.,  5.,  7.,\n",
       "        2.,  6.,  8., 10.,  5.,  7.,  9.,  7.,  7., 17., 10.,  6.,  6.,\n",
       "        6., 10.,  7., 11., 15.,  9.,  8.,  6., 11.,  3.,  6., 11.,  8.,\n",
       "       12.,  9.,  6., 12.,  5., 12.,  7., 12., 10.,  8.,  7., 11.,  7.,\n",
       "       10., 10., 12., 13.,  8.,  6.,  9., 13.,  9., 11.,  9.,  7.,  9.,\n",
       "        5.,  5.,  9.,  6.,  9.,  9.,  6., 11., 12.,  8., 11.,  9., 11.,\n",
       "        6.,  9.,  9.,  7.,  7., 11., 11.,  5.,  9., 10., 14.,  9.,  9.,\n",
       "        5.,  8.,  5., 14.,  6.,  8., 10.,  4.,  6.,  8.,  7.,  9.,  3.,\n",
       "       13.,  7.,  9.,  9.,  8.,  5.,  8.,  4., 10.,  5.,  8.,  9.,  9.,\n",
       "        7., 13., 10., 11., 10.,  9., 10., 11.,  6., 13.,  7.,  6.,  6.,\n",
       "        5.,  9., 11.,  7.,  7.,  4., 10.,  5.,  9., 14., 10., 12., 10.,\n",
       "        5., 15.,  5.,  5.,  6.,  9.,  8., 13., 10., 12.,  9.,  5.,  6.,\n",
       "       11.,  3.,  6.,  9.,  7.,  6.,  9.,  4.,  7.,  7., 16.,  7.,  9.,\n",
       "        8.,  6.,  3.,  4.,  7.,  9., 15.,  6., 10.,  5.,  2., 11., 10.,\n",
       "       11.,  9.,  9.,  7., 10., 12., 10.,  9.,  5.,  4., 12.,  3.,  6.,\n",
       "        5.,  8., 15., 11.,  7.,  9.,  5.,  6.,  4., 10., 13., 13., 14.,\n",
       "       14., 14., 10., 10.,  5., 11.,  8.,  9.,  9.,  5.,  8.,  7., 14.,\n",
       "       14.,  6.,  4.,  6.,  9.,  8.,  9., 11.,  9.,  6.,  8.,  6.,  7.,\n",
       "       12.,  8., 16.,  8.,  9.,  7., 13.,  8., 10., 11., 11.,  7., 12.,\n",
       "       13.,  9.,  6.,  9., 19.,  3.,  9.,  6.,  9.,  6.,  6., 12.,  8.,\n",
       "        8., 11., 11.,  6.,  7., 11., 12.,  6.,  3.,  9., 13., 10.,  5.,\n",
       "       11.,  8., 12., 14.,  5.,  4., 10.,  8.,  8.,  7.,  7.,  9., 11.,\n",
       "       11.,  8., 11.,  9., 10., 15.,  4.,  8.,  6., 10.,  8.,  7., 12.,\n",
       "        7.,  6.,  5.,  3., 13., 11.,  8., 10.,  8.,  5.,  8., 11.,  8.,\n",
       "        8.,  8.,  6.,  8.,  9., 12.,  9., 13., 10.,  5.,  8., 11., 13.,\n",
       "        3., 10., 14., 12., 11.,  7.,  5.,  8., 10.,  8., 10.,  9., 12.,\n",
       "        6.,  8., 10.,  9., 11., 10.,  8., 10.,  9.,  8.,  8.,  9.,  8.,\n",
       "        8.,  6.,  6.,  7., 10.,  6., 12., 11., 10.,  7., 18.,  6.,  8.,\n",
       "        9., 12.,  8.,  8., 11., 11.,  5.,  9.,  3.,  5.,  7.,  6.,  6.,\n",
       "        5., 10.,  5.,  8., 10.,  9.,  4.,  8., 10., 10.,  3., 10.,  8.,\n",
       "       12., 12.,  8.,  9.,  9.,  9.,  8.,  8., 11.,  4.,  7., 12., 12.,\n",
       "       13.,  5.,  8.,  6., 11., 13.,  7., 11.,  3.,  6.,  8.,  6., 13.,\n",
       "       15.,  6.,  4.,  9.,  6.,  8.,  7.,  9.,  5., 10.,  7.,  8.,  5.,\n",
       "        5.,  8.,  8.,  9.,  3.,  7.,  3.,  5.,  7.,  5., 12.,  4., 13.,\n",
       "        9.,  3.,  7., 11., 11.,  6.,  6.,  5.,  8., 14.,  8.,  8.,  4.,\n",
       "        7.,  9., 10.,  6.,  5.,  4., 10.,  5., 11.,  9., 15.,  9., 10.,\n",
       "        8., 11.,  8.,  9., 11., 12., 10., 13.,  9.,  6.,  9.,  8.,  8.,\n",
       "       17., 15., 10.,  7., 11., 11., 12.,  5.,  7.,  6.,  9.,  8., 10.,\n",
       "       11., 10.,  7., 11.,  6.,  9.,  8., 10.,  8.,  6.,  9.,  7., 10.,\n",
       "       10.,  4.,  7., 14.,  5.,  6.,  5.,  6.,  7.,  6.,  9., 11.,  7.,\n",
       "        7.,  9., 12., 12.,  7.,  9.,  5.,  5.,  5., 12., 11.,  6.,  4.,\n",
       "        8., 12., 11.,  5.,  6., 14.,  9., 10.,  5.,  7., 12.,  6.,  6.,\n",
       "       11.,  7.,  9., 13.,  6., 10.,  5.,  9.,  5.,  7.,  7.,  1., 11.,\n",
       "        8.,  8.,  9.,  8.,  9.,  9.,  8.,  6.,  7., 13.,  7.,  6., 12.,\n",
       "        8.,  6., 14.,  6.,  7.,  8., 10.,  9.,  4., 14., 13., 11.,  9.,\n",
       "       11.,  5.])"
      ]
     },
     "execution_count": 16,
     "metadata": {},
     "output_type": "execute_result"
    }
   ],
   "source": [
    "album.stickers"
   ]
  },
  {
   "cell_type": "code",
   "execution_count": 4,
   "metadata": {},
   "outputs": [
    {
     "name": "stdout",
     "output_type": "stream",
     "text": [
      "Number of packs to fill the album: 837\n"
     ]
    }
   ],
   "source": [
    "album = np.zeros(n_stickers)\n",
    "album, num_packs_buy = fill_album(album, n_stickers, pack_size)\n",
    "print(\"Number of packs to fill the album: {}\".format(num_packs_buy))"
   ]
  },
  {
   "cell_type": "code",
   "execution_count": 20,
   "metadata": {},
   "outputs": [
    {
     "name": "stdout",
     "output_type": "stream",
     "text": [
      "Simulation Number: 0\n",
      "Simulation Number: 100\n",
      "Simulation Number: 200\n",
      "Simulation Number: 300\n",
      "Simulation Number: 400\n",
      "Simulation Number: 500\n",
      "Simulation Number: 600\n",
      "Simulation Number: 700\n",
      "Simulation Number: 800\n",
      "Simulation Number: 900\n"
     ]
    }
   ],
   "source": [
    "albums, num_packs_fill_album = run_mc_simulation(1000, n_stickers, pack_size)"
   ]
  },
  {
   "cell_type": "code",
   "execution_count": 21,
   "metadata": {},
   "outputs": [
    {
     "data": {
      "image/png": "[encoded data removed]",
      "text/plain": [
       "<Figure size 1440x360 with 2 Axes>"
      ]
     },
     "metadata": {},
     "output_type": "display_data"
    }
   ],
   "source": [
    "fig, axes = plt.subplots(1, 2, figsize=(20,5))\n",
    "sns.histplot(ax=axes[0], x=num_packs_fill_album,  bins='sqrt', stat='density');\n",
    "axes[0].set(ylabel='Density', xlabel='# of packs to buy');\n",
    "axes[0].set_title('Histogram')\n",
    "#sns.violinplot(ax=axes[1], y=num_packs_fill_album);\n",
    "#axes[1].set_title('Violin Plot')\n",
    "#axes[1].set(ylabel='# of packs to buy');\n",
    "sns.boxplot(ax=axes[1], y=num_packs_fill_album);\n",
    "axes[1].set_title('Box Plot')\n",
    "axes[1].set(ylabel='# of packs to buy');\n",
    "\n",
    "fig.savefig('no_of_packs')"
   ]
  },
  {
   "cell_type": "code",
   "execution_count": 159,
   "metadata": {},
   "outputs": [
    {
     "name": "stdout",
     "output_type": "stream",
     "text": [
      "The mean number of packs one has to buy to fill the complete album is: 962.926\n",
      "With a chance of 10%, you need less than 770.0 packs to fill the album \n",
      "With a chance of 10%, you need more than 1193.0 packs to fill the album \n"
     ]
    }
   ],
   "source": [
    "print('The mean number of packs one has to buy to fill the complete album is: {}'.format(np.mean(num_packs_fill_album)))\n",
    "print('With a chance of 10%, you need less than {} packs to fill the album '.format(np.percentile(num_packs_fill_album, 10)))\n",
    "print('With a chance of 10%, you need more than {} packs to fill the album '.format(np.percentile(num_packs_fill_album, 90)))\n"
   ]
  },
  {
   "cell_type": "markdown",
   "metadata": {},
   "source": [
    "## Evaluate the duplicates"
   ]
  },
  {
   "cell_type": "code",
   "execution_count": 143,
   "metadata": {},
   "outputs": [],
   "source": [
    "duplicates = np.zeros(40) \n",
    "amount_of_duplicates = []\n",
    "for album in albums:  \n",
    "    amount_of_duplicates.append(np.sum(album) - n_stickers) \n",
    "    counts = np.bincount(np.int64(album))\n",
    "    len_counts = len(counts)\n",
    "    duplicates[0:len_counts] = duplicates[0:len_counts] + counts"
   ]
  },
  {
   "cell_type": "code",
   "execution_count": 171,
   "metadata": {},
   "outputs": [
    {
     "name": "stdout",
     "output_type": "stream",
     "text": [
      "3987.0\n",
      "Theoretical amount of duplicates: 4136.63\n",
      "With a chance of 10%, you will have less than than 4762.0 duplicates when completing the album \n",
      "With a chance of 10%, you will have more than than 5287.0 duplicates when completing the album \n"
     ]
    }
   ],
   "source": [
    "print(np.median(amount_of_duplicates))\n",
    "print('Theoretical amount of duplicates: {}'.format(np.mean(num_packs_fill_album)*pack_size - n_stickers))\n",
    "\n",
    "print('With a chance of 10%, you will have less than than {} duplicates when completing the album '.format(np.percentile(amount_of_duplicates, 80)))\n",
    "print('With a chance of 10%, you will have more than than {} duplicates when completing the album '.format(np.percentile(amount_of_duplicates, 90)))\n"
   ]
  },
  {
   "cell_type": "code",
   "execution_count": 162,
   "metadata": {},
   "outputs": [
    {
     "data": {
      "image/png": "[encoded data removed]",
      "text/plain": [
       "<Figure size 1440x360 with 2 Axes>"
      ]
     },
     "metadata": {},
     "output_type": "display_data"
    }
   ],
   "source": [
    "fig, axes = plt.subplots(1, 2, figsize=(20,5));\n",
    "sns.histplot(ax=axes[0], x=amount_of_duplicates,  bins='sqrt');\n",
    "axes[0].set(ylabel='Counts', xlabel='# of duplicates when album is full');\n",
    "axes[0].set_title('Histogram')\n",
    "#sns.violinplot(ax=axes[1], y=amount_of_duplicates);\n",
    "#axes[1].set_title('Violin Plot')\n",
    "#axes[1].set(ylabel='# of duplicates when album is full');\n",
    "sns.boxplot(ax=axes[1], y=amount_of_duplicates);\n",
    "axes[1].set_title('Box Plot')\n",
    "axes[1].set(ylabel='# of duplicates when album is full');\n",
    "fig.savefig('img/no_swapping/no_of_duplicates')"
   ]
  },
  {
   "cell_type": "code",
   "execution_count": null,
   "metadata": {},
   "outputs": [],
   "source": []
  }
 ],
 "metadata": {
  "kernelspec": {
   "display_name": "Python 3",
   "language": "python",
   "name": "python3"
  },
  "language_info": {
   "codemirror_mode": {
    "name": "ipython",
    "version": 3
   },
   "file_extension": ".py",
   "mimetype": "text/x-python",
   "name": "python",
   "nbconvert_exporter": "python",
   "pygments_lexer": "ipython3",
   "version": "3.8.5"
  }
 },
 "nbformat": 4,
 "nbformat_minor": 4
}
